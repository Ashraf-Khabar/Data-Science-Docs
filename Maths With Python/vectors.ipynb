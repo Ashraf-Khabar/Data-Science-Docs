{
 "cells": [
  {
   "cell_type": "markdown",
   "metadata": {},
   "source": [
    "## Vectors in linear algebra : "
   ]
  },
  {
   "cell_type": "markdown",
   "metadata": {},
   "source": [
    "vectors is a set of elements with the same nature, let $\\mathbb{V}_n$ a set of vectors with dimenssion $n$ , for example $v \\in \\mathbb{V_{3}}$ so $dim({v}) = 3$ .  \n",
    "* $v = (1, 2, 3)$ it's a vecotor of 3 elements, for example if we consider the vector is a plan, we can say that $v = (x, y, z) = (axe_x, axe_y, axe_z)$ ."
   ]
  }
 ],
 "metadata": {
  "kernelspec": {
   "display_name": "testenvironment",
   "language": "python",
   "name": "python3"
  },
  "language_info": {
   "name": "python",
   "version": "3.6.13"
  },
  "orig_nbformat": 4
 },
 "nbformat": 4,
 "nbformat_minor": 2
}
