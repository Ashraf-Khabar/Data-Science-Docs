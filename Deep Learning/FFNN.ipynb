{
 "cells": [
  {
   "cell_type": "markdown",
   "metadata": {},
   "source": [
    "# Implementation of Feed Forward Neural Network In Python"
   ]
  },
  {
   "cell_type": "markdown",
   "metadata": {},
   "source": [
    "* Feed Forward Neural Network or called Fully connected neural network is a mathematical deep learning model $\\:$. \n",
    "* We have hiden Layers $h_i^{(1)}$ with $i \\in [1, \\cdots, i]$, weith $w_{1...i}^{(1)}$, biase $b_{1...i}^{(1)}$ $\\:$.\n",
    "* We need to calculate the $z_i^{(1)} = w_{1...m}^{(1)} \\times X + b_{1...k}^{(1)}$ and $X = x_j$ the input $\\:$.\n",
    "* Then we need to calculate the activation function $a_i^{(1)} = \\sigma(z_i^{(1)})$ $\\:$ .\n",
    "* We need to define the Nx the number of input vectors .\n",
    "    * For our example : Nx = 3, HidenLayer = 4 .\n",
    "    * $w_1$ is the matrix of the first hidden layer, it has a shape of `(HidenLayer, Nx) = (4, 3)` .\n",
    "    * $b_1$ is the matrix of the first hidden layer, it has a shape of `(noOfHiddenNeurons,1) = (4, 1)` .\n",
    "    * $z_1$ is the result of the equation $z_1 = W_1 \\cdot X + b$ , it has a shape of `(noOfHiddenNeurons,1) = (4, 1)` .\n",
    "    * $a_1$ is the result of the equation $a_1 = \\sigma(z_1)$ , it has a shape of `(noOfHiddenNeurons,1) = (4, 1)`.\n",
    "    * $w_2$ is the matrix of the second hidden layer, it has a shape of `(1,noOfHiddenNeurons) = (1, 4)`.\n",
    "    * $b_2$ is the matrix of the second hidden layer, it has a shape of `(1,1)` .\n",
    "    * $z_2$ is the result of the equation $z_2 = W_2 \\cdot a_1 + b$ , it has a shape of `(1,1)` .\n",
    "    * $a_2$ is the result of the equation $a_2 = \\sigma(z_2)$ , it has a shape of `(1,1)` .\n"
   ]
  },
  {
   "cell_type": "code",
   "execution_count": 9,
   "metadata": {},
   "outputs": [],
   "source": [
    "import numpy as np\n",
    "\n",
    "# Given values\n",
    "HidenLayer = 4\n",
    "Nx = 3\n",
    "m = 100  # Assuming 'm' is the number of data samples\n"
   ]
  },
  {
   "cell_type": "code",
   "execution_count": 10,
   "metadata": {},
   "outputs": [],
   "source": [
    "# Define the shapes of the variables\n",
    "W1_shape = (HidenLayer, Nx)\n",
    "b1_shape = (HidenLayer, 1)\n",
    "W2_shape = (1, HidenLayer)\n",
    "b2_shape = (1, 1)"
   ]
  },
  {
   "cell_type": "code",
   "execution_count": 11,
   "metadata": {},
   "outputs": [],
   "source": [
    "# Initialize the variables (optional, based on your use case)\n",
    "W1 = np.random.randn(*W1_shape)  # Assuming you want to initialize with random values\n",
    "b1 = np.random.randn(*b1_shape)\n",
    "W2 = np.random.randn(*W2_shape)\n",
    "b2 = np.random.randn(*b2_shape)"
   ]
  },
  {
   "cell_type": "code",
   "execution_count": 12,
   "metadata": {},
   "outputs": [],
   "source": [
    "# Sample data for x (optional, based on your use case)\n",
    "x = np.random.randn(Nx, m)\n",
    "\n",
    "# Initialize arrays to store z and a for each data sample\n",
    "z1 = np.zeros((HidenLayer, m))\n",
    "a1 = np.zeros((HidenLayer, m))\n",
    "z2 = np.zeros((1, m))\n",
    "a2 = np.zeros((1, m))"
   ]
  },
  {
   "cell_type": "code",
   "execution_count": 14,
   "metadata": {},
   "outputs": [
    {
     "name": "stdout",
     "output_type": "stream",
     "text": [
      "z1 shape: (4, 100)\n",
      "a1 shape: (4, 100)\n",
      "z2 shape: (1, 100)\n",
      "a2 shape: (1, 100)\n"
     ]
    }
   ],
   "source": [
    "# Print the shapes of z and a\n",
    "print(\"z1 shape:\", z1.shape)\n",
    "print(\"a1 shape:\", a1.shape)\n",
    "print(\"z2 shape:\", z2.shape)\n",
    "print(\"a2 shape:\", a2.shape)"
   ]
  },
  {
   "cell_type": "code",
   "execution_count": 25,
   "metadata": {},
   "outputs": [],
   "source": [
    "# Calculate z and a for each data sample\n",
    "for i in range(m):\n",
    "    z1[:, i] = np.dot(W1, x[:, i]) + b1[:, 0]\n",
    "    a1[:, i] = 1 / (1 + np.exp(-z1[:, i]))\n",
    "    z2[:, i] = np.dot(W2, a1[:, i]) + b2[:, 0]\n",
    "    a2[:, i] = 1 / (1 + np.exp(-z2[:, i]))"
   ]
  }
 ],
 "metadata": {
  "kernelspec": {
   "display_name": "testenvironment",
   "language": "python",
   "name": "python3"
  },
  "language_info": {
   "codemirror_mode": {
    "name": "ipython",
    "version": 3
   },
   "file_extension": ".py",
   "mimetype": "text/x-python",
   "name": "python",
   "nbconvert_exporter": "python",
   "pygments_lexer": "ipython3",
   "version": "3.6.13"
  },
  "orig_nbformat": 4
 },
 "nbformat": 4,
 "nbformat_minor": 2
}
