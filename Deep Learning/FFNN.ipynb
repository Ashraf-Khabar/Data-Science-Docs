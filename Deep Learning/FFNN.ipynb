{
 "cells": [
  {
   "cell_type": "markdown",
   "metadata": {},
   "source": [
    "# Implementation of Feed Forward Neural Network In Python"
   ]
  },
  {
   "cell_type": "markdown",
   "metadata": {},
   "source": [
    "* Feed Forward Neural Network or called Fully connected neural network is a mathematical deep learning model $\\:$. \n",
    "* We have hiden Layers $h_i^{(1)}$ with $i \\in [1, \\cdots, i]$, weith $w_{1...i}^{(1)}$, biase $b_{1...i}^{(1)}$ $\\:$.\n",
    "* We need to calculate the $z_i^{(1)} = w_{1...m}^{(1)} \\times X + b_{1...k}^{(1)}$ and $X = x_j$ the input $\\:$.\n",
    "* Then we need to calculate the activation function $a_i^{(1)} = \\sigma(z_i^{(1)})$ $\\:$ .\n",
    "* We need to define the Nx the number of input vectors .\n",
    "    * For our example : Nx = 3, HidenLayer = 4 .\n",
    "    * $w_1$ is the matrix of the first hidden layer, it has a shape of `(HidenLayer, Nx) = (4, 3)` .\n",
    "    * $b_1$ is the matrix of the first hidden layer, it has a shape of `(noOfHiddenNeurons,1) = (4, 1)` .\n",
    "    * $z_1$ is the result of the equation $z_1 = W_1 \\cdot X + b$ , it has a shape of `(noOfHiddenNeurons,1) = (4, 1)` .\n",
    "    * $a_1$ is the result of the equation $a_1 = \\sigma(z_1)$ , it has a shape of `(noOfHiddenNeurons,1) = (4, 1)`.\n",
    "    * $w_2$ is the matrix of the second hidden layer, it has a shape of `(1,noOfHiddenNeurons) = (1, 4)`.\n",
    "    * $b_2$ is the matrix of the second hidden layer, it has a shape of `(1,1)` .\n",
    "    * $z_2$ is the result of the equation $z_2 = W_2 \\cdot a_1 + b$ , it has a shape of `(1,1)` .\n",
    "    * $a_2$ is the result of the equation $a_2 = \\sigma(z_2)$ , it has a shape of `(1,1)` .\n"
   ]
  },
  {
   "cell_type": "code",
   "execution_count": 1,
   "metadata": {},
   "outputs": [],
   "source": [
    "import numpy as np\n",
    "import matplotlib.pyplot as plt\n",
    "\n",
    "# Given values\n",
    "HidenLayer = 4\n",
    "Nx = 3\n",
    "m = 100  # Assuming 'm' is the number of data samples"
   ]
  },
  {
   "cell_type": "code",
   "execution_count": 2,
   "metadata": {},
   "outputs": [],
   "source": [
    "# Define the shapes of the variables\n",
    "W1_shape = (HidenLayer, Nx)\n",
    "b1_shape = (HidenLayer, 1)\n",
    "W2_shape = (1, HidenLayer)\n",
    "b2_shape = (1, 1)"
   ]
  },
  {
   "cell_type": "code",
   "execution_count": 3,
   "metadata": {},
   "outputs": [],
   "source": [
    "# Initialize the variables (optional, based on your use case)\n",
    "W1 = np.random.randn(*W1_shape)  # Assuming you want to initialize with random values\n",
    "b1 = np.random.randn(*b1_shape)\n",
    "W2 = np.random.randn(*W2_shape)\n",
    "b2 = np.random.randn(*b2_shape)"
   ]
  },
  {
   "cell_type": "code",
   "execution_count": 4,
   "metadata": {},
   "outputs": [],
   "source": [
    "# Sample data for x (optional, based on your use case)\n",
    "x = np.random.randn(Nx, m)"
   ]
  },
  {
   "cell_type": "code",
   "execution_count": 5,
   "metadata": {},
   "outputs": [],
   "source": [
    "# Initialize arrays to store z and a for each data sample\n",
    "z1 = np.zeros((HidenLayer, m))\n",
    "a1 = np.zeros((HidenLayer, m))\n",
    "z2 = np.zeros((1, m))\n",
    "a2 = np.zeros((1, m))"
   ]
  },
  {
   "cell_type": "code",
   "execution_count": 6,
   "metadata": {},
   "outputs": [
    {
     "name": "stdout",
     "output_type": "stream",
     "text": [
      "z1 shape: (4, 100)\n",
      "a1 shape: (4, 100)\n",
      "z2 shape: (1, 100)\n",
      "a2 shape: (1, 100)\n"
     ]
    }
   ],
   "source": [
    "# Print the shapes of z and a\n",
    "print(\"z1 shape:\", z1.shape)\n",
    "print(\"a1 shape:\", a1.shape)\n",
    "print(\"z2 shape:\", z2.shape)\n",
    "print(\"a2 shape:\", a2.shape)"
   ]
  },
  {
   "cell_type": "markdown",
   "metadata": {},
   "source": [
    "* If you notice always $m$ is the number of columns."
   ]
  },
  {
   "cell_type": "code",
   "execution_count": 7,
   "metadata": {},
   "outputs": [],
   "source": [
    "# Calculate z and a for each data sample\n",
    "\n",
    "for i in range(m):\n",
    "    z1[:, i] = np.dot(W1, x[:, i]) + b1[:, 0]\n",
    "    a1[:, i] = 1 / (1 + np.exp(-z1[:, i]))\n",
    "    z2[:, i] = np.dot(W2, a1[:, i]) + b2[:, 0]\n",
    "    a2[:, i] = 1 / (1 + np.exp(-z2[:, i]))"
   ]
  },
  {
   "cell_type": "markdown",
   "metadata": {},
   "source": [
    "### Activation function $f(x)$ :"
   ]
  },
  {
   "cell_type": "markdown",
   "metadata": {},
   "source": [
    "* Let note that we used `sigmoid` `function` $\\sigma(x) = \\frac{1}{1+e^{-x}}$ .\n",
    "    * But we can use other type of functions (depend on wich case we are in) .\n",
    "    * Sigmoid can lead us to gradient decent problem where the updates are so low .\n",
    "    * Sigmoid activation function range is $[0,1],\\: A = 1 / (1 + np.exp(-z))$ Where $z$ is the input matrix ."
   ]
  },
  {
   "cell_type": "markdown",
   "metadata": {},
   "source": [
    "* $\\tanh$ activation function range is $[-1,1]$ : \n",
    "    * In $NumPy$ we can implement $\\tanh$ using one of these methods: $A = (np.exp(z) - np.exp(-z)) / (np.exp(z) + np.exp(-z))$ Where $z$ is the input matrix Or $A = np.tanh(z)$ Where z is the input matrix .\n",
    "    * It turns out that the tanh activation usually works better than sigmoid activation function for hidden units because the mean of its output is closer to zero, and so it centers the data better for the next layer.\n",
    "    * Sigmoid or Tanh function disadvantage is that if the input is too small or too high, the slope will be near zero which will cause us the gradient decent problem."
   ]
  },
  {
   "cell_type": "markdown",
   "metadata": {},
   "source": [
    "* One of the popular `activation` functions that solved the slow `gradient decent` is the `RELU function`. $RELU = max(0,z)$  so if $z$ is negative the slope is $0$ and if $z$ is positive the slope remains linear.\n",
    "    * So here is some basic rule for choosing activation functions, if your classification is between 0 and 1, use the output activation as sigmoid and the others as `RELU`.\n",
    "    * Leaky `RELU` `activation` `function` different of `RELU` is that if the input is negative the slope will be so small. It works as `RELU` but most people uses `RELU`. $Leaky_RELU = max(0.01z,z)$ the $0.01$ can be a parameter for your algorithm."
   ]
  },
  {
   "cell_type": "markdown",
   "metadata": {},
   "source": [
    "### Sigmoid activation function :"
   ]
  },
  {
   "cell_type": "code",
   "execution_count": 8,
   "metadata": {},
   "outputs": [
    {
     "data": {
      "image/png": "[encoded data removed]",
      "text/plain": [
       "<Figure size 432x288 with 1 Axes>"
      ]
     },
     "metadata": {
      "needs_background": "light"
     },
     "output_type": "display_data"
    }
   ],
   "source": [
    "def sigmoid(x):\n",
    "    return 1 / (1 + np.exp(-x))\n",
    "\n",
    "axe_x_sigm = np.linspace(-10, 10, 1000)\n",
    "axe_y_sigm = sigmoid(axe_x_sigm)\n",
    "plt.plot(axe_x_sigm, axe_y_sigm)\n",
    "plt.xlabel('x')\n",
    "plt.ylabel('sigmoid(x)')\n",
    "plt.title('Sigmoid Function')\n",
    "plt.grid(True)\n",
    "plt.show()"
   ]
  },
  {
   "cell_type": "markdown",
   "metadata": {},
   "source": [
    "We notice that This `sigmoid function` is between $[0, 1]$ ."
   ]
  },
  {
   "cell_type": "markdown",
   "metadata": {},
   "source": [
    "### tanh activation function :"
   ]
  },
  {
   "cell_type": "code",
   "execution_count": 9,
   "metadata": {},
   "outputs": [
    {
     "data": {
      "image/png": "[encoded data removed]",
      "text/plain": [
       "<Figure size 432x288 with 1 Axes>"
      ]
     },
     "metadata": {
      "needs_background": "light"
     },
     "output_type": "display_data"
    }
   ],
   "source": [
    "def tanh(x):\n",
    "    return np.tanh(x)\n",
    "\n",
    "axe_x_th = np.linspace(-10, 10, 1000)\n",
    "axe_y_th = tanh(axe_x_th)\n",
    "plt.plot(axe_x_th, axe_y_th)\n",
    "plt.xlabel('x')\n",
    "plt.ylabel('tanh(x)')\n",
    "plt.title('tanh Function')\n",
    "plt.grid(True)\n",
    "plt.show()"
   ]
  },
  {
   "cell_type": "markdown",
   "metadata": {},
   "source": [
    "We notice that This `tanh function` is between $[-1, 1]$ ."
   ]
  },
  {
   "cell_type": "markdown",
   "metadata": {},
   "source": [
    "### ReLu activation function :"
   ]
  },
  {
   "cell_type": "code",
   "execution_count": 10,
   "metadata": {},
   "outputs": [
    {
     "data": {
      "image/png": "[encoded data removed]",
      "text/plain": [
       "<Figure size 432x288 with 1 Axes>"
      ]
     },
     "metadata": {
      "needs_background": "light"
     },
     "output_type": "display_data"
    }
   ],
   "source": [
    "def ReLU(x):\n",
    "    return np.maximum(0, x)\n",
    "\n",
    "axe_x_relu = np.linspace(-10, 10, 1000)\n",
    "axe_y_relu = ReLU(axe_x_relu)\n",
    "plt.plot(axe_x_relu, axe_y_relu)\n",
    "plt.xlabel('x')\n",
    "plt.ylabel('ReLU(x)')\n",
    "plt.title('ReLU Function')\n",
    "plt.grid(True)\n",
    "plt.show()"
   ]
  },
  {
   "cell_type": "markdown",
   "metadata": {},
   "source": [
    "## Gradient descent For FFNN : "
   ]
  },
  {
   "cell_type": "markdown",
   "metadata": {},
   "source": [
    "* In `logistic regression` it wasn't important to initialize the `weights` randomly, whil in `NN` we have to initialize them randomly .\n",
    "* If we initialize the `weight` with `0` it won't work, for the `biases` it's ok . \n",
    "    * all hidden units will be completely identical (symmetric) - compute exactly the same function .\n",
    "    * on each gradient descent iteration all the hidden units will always update the same ."
   ]
  },
  {
   "cell_type": "code",
   "execution_count": 20,
   "metadata": {},
   "outputs": [],
   "source": [
    "w1 = np.random.randn(2, 2) * 0.01\n",
    "b1 = np.zeros((2,1)) "
   ]
  }
 ],
 "metadata": {
  "kernelspec": {
   "display_name": "testenvironment",
   "language": "python",
   "name": "python3"
  },
  "language_info": {
   "codemirror_mode": {
    "name": "ipython",
    "version": 3
   },
   "file_extension": ".py",
   "mimetype": "text/x-python",
   "name": "python",
   "nbconvert_exporter": "python",
   "pygments_lexer": "ipython3",
   "version": "3.6.13"
  },
  "orig_nbformat": 4
 },
 "nbformat": 4,
 "nbformat_minor": 2
}
