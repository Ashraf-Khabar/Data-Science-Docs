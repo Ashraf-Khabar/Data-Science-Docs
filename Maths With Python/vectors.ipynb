{
 "cells": [
  {
   "cell_type": "markdown",
   "metadata": {},
   "source": [
    "## Vectors in linear algebra : "
   ]
  },
  {
   "cell_type": "markdown",
   "metadata": {},
   "source": [
    "vectors is a set of elements with the same nature, let $\\mathbb{V}_n$ a set of vectors with dimenssion $n$ , for example $v \\in \\mathbb{V_{3}}$ so $dim({v}) = 3$ .  \n",
    "* $v = (1, 2, 3)$ it's a vecotor of 3 elements, for example if we consider the vector is a plan, we can say that $v = (x, y, z) = (axe_x, axe_y, axe_z)$ ."
   ]
  },
  {
   "cell_type": "code",
   "execution_count": 1,
   "metadata": {},
   "outputs": [],
   "source": [
    "# Create a vector in python : \n",
    "import numpy as np"
   ]
  },
  {
   "cell_type": "code",
   "execution_count": 11,
   "metadata": {},
   "outputs": [],
   "source": [
    "v1 = np.array([\n",
    "    1,\n",
    "    2,\n",
    "    3\n",
    "])"
   ]
  },
  {
   "cell_type": "code",
   "execution_count": 12,
   "metadata": {},
   "outputs": [
    {
     "data": {
      "text/plain": [
       "array([1, 2, 3])"
      ]
     },
     "execution_count": 12,
     "metadata": {},
     "output_type": "execute_result"
    }
   ],
   "source": [
    "v1"
   ]
  },
  {
   "cell_type": "code",
   "execution_count": 13,
   "metadata": {},
   "outputs": [
    {
     "name": "stdout",
     "output_type": "stream",
     "text": [
      "The dim of V1 :  3\n"
     ]
    }
   ],
   "source": [
    "print(\"The dim of V1 : \", v1.size)"
   ]
  },
  {
   "cell_type": "markdown",
   "metadata": {},
   "source": [
    "## Operations in vectors : "
   ]
  },
  {
   "cell_type": "markdown",
   "metadata": {},
   "source": [
    "let $(v_1, v_2) \\in \\mathbb{V_n} \\times \\mathbb{V_n}$, so *dim*($v_1$) $ =n$ and *dim*($v_2$) $ =n$ and $v_1 = (a_1, a_2, ..., a_n)$ and $v_2 = (b_1, b_2, ..., b_m)$ .\n",
    "\n",
    "$v_1 + v_2 = (a_1 + b_1, a_2 + b_2, ..., a_n + b_n)$ . "
   ]
  },
  {
   "cell_type": "code",
   "execution_count": 19,
   "metadata": {},
   "outputs": [
    {
     "data": {
      "text/plain": [
       "array([2, 4, 6])"
      ]
     },
     "execution_count": 19,
     "metadata": {},
     "output_type": "execute_result"
    }
   ],
   "source": [
    "# Example : \n",
    "v1 = np.array([1, 2, 3])\n",
    "v2 = np.array([1, 2, 3])\n",
    "\n",
    "v1 + v2"
   ]
  },
  {
   "cell_type": "markdown",
   "metadata": {},
   "source": [
    "let $v \\in \\mathbb{V_n}$, $\\forall \\alpha \\in \\mathbb{R} $ and $ v = (a_1, a_2, ..., a_n)$ .\n",
    "\n",
    "$\\alpha \\times v = (\\alpha . a_1, \\alpha . a_2, ..., \\alpha . a_n)$\n"
   ]
  },
  {
   "cell_type": "code",
   "execution_count": 25,
   "metadata": {},
   "outputs": [
    {
     "data": {
      "text/plain": [
       "array([ 2,  6, 12])"
      ]
     },
     "execution_count": 25,
     "metadata": {},
     "output_type": "execute_result"
    }
   ],
   "source": [
    "# ExampleV1 : \n",
    "v1 = np.array([1, 3, 6])\n",
    "2 * v1"
   ]
  }
 ],
 "metadata": {
  "kernelspec": {
   "display_name": "testenvironment",
   "language": "python",
   "name": "python3"
  },
  "language_info": {
   "codemirror_mode": {
    "name": "ipython",
    "version": 3
   },
   "file_extension": ".py",
   "mimetype": "text/x-python",
   "name": "python",
   "nbconvert_exporter": "python",
   "pygments_lexer": "ipython3",
   "version": "3.6.13"
  },
  "orig_nbformat": 4
 },
 "nbformat": 4,
 "nbformat_minor": 2
}
