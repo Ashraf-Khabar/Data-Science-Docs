{
 "cells": [
  {
   "cell_type": "markdown",
   "metadata": {},
   "source": [
    "## In this Files We Will do some maths using Python\n"
   ]
  },
  {
   "cell_type": "markdown",
   "metadata": {},
   "source": [
    "#### Numbers :\n",
    "* We have 6 sets of numbers in maths : $\\mathbb{N}, \\mathbb{Z}, \\mathbb{D}, \\mathbb{Q}, \\mathbb{R}$ and $\\mathbb{C}$ .\n",
    "* Set of Natural Numbers ($\\mathbb{N}$): The set of positive integers: $1, 2, 3, \\ldots$\n",
    "* Set of Integers ($\\mathbb{Z}$): The set of all integers, including both positive and negative numbers, as well as zero: $\\ldots, -3, -2, -1, 0, 1, 2, 3, \\ldots$\n",
    "* Set of Decimal Relative Numbers ($\\mathbb{D}$): This set includes not only integer numbers, but also positive and negative decimal numbers. Examples include numbers like $-5$, $-4$, $-4.2$, $-1.5$, $0$, $1.5$, $2.4$, $6.75$, $8$, etc.\n",
    "* Set of Rational Numbers ($\\mathbb{Q}$): This set encompasses not only decimal relative numbers, but also numbers that can be expressed as the quotient of two relative integers, with a non-zero denominator. Examples include numbers like $-5/4$, $-1/2$, $0$, $1$, $2$, $4/5$, $7/2$, etc.\n",
    "* Set of Real Numbers ($\\mathbb{R}$): Real numbers are more general than rational numbers. They include not only rational numbers, but also numbers whose decimal expansion is infinite and non-repeating. Examples include numbers like $\\pi$, $\\sqrt{2}$, $-1.524$, $2.41$, etc.\n",
    "* Set of Complex Numbers ($\\mathbb{C}$): The set of numbers that can be expressed in the form $a + bi$, where $a$ and $b$ are real numbers, and $i$ is the imaginary unit. This set includes all real numbers and numbers that involve an imaginary part, such as $3 + 4i, -2 - 7i, 5i, \\ldots$"
   ]
  },
  {
   "cell_type": "code",
   "execution_count": 3,
   "metadata": {},
   "outputs": [],
   "source": [
    "Intger = 1 # Intger number\n",
    "myFloat = 2.0 # Float number or reel number"
   ]
  },
  {
   "cell_type": "code",
   "execution_count": 5,
   "metadata": {},
   "outputs": [
    {
     "data": {
      "text/plain": [
       "1.4444444444444444"
      ]
     },
     "execution_count": 5,
     "metadata": {},
     "output_type": "execute_result"
    }
   ],
   "source": [
    "fraction = 52/36 # having numbers after the cama\n",
    "fraction"
   ]
  },
  {
   "cell_type": "code",
   "execution_count": 6,
   "metadata": {},
   "outputs": [
    {
     "data": {
      "text/plain": [
       "1"
      ]
     },
     "execution_count": 6,
     "metadata": {},
     "output_type": "execute_result"
    }
   ],
   "source": [
    "fraction = 52//36 # doesn't have any number after the cama \n",
    "fraction"
   ]
  },
  {
   "cell_type": "code",
   "execution_count": 7,
   "metadata": {},
   "outputs": [
    {
     "data": {
      "text/plain": [
       "'1.444'"
      ]
     },
     "execution_count": 7,
     "metadata": {},
     "output_type": "execute_result"
    }
   ],
   "source": [
    "fraction = 52/36\n",
    "\"{:.3f}\".format(fraction) # Having a specific number after cama"
   ]
  },
  {
   "cell_type": "markdown",
   "metadata": {},
   "source": [
    "Operations "
   ]
  },
  {
   "cell_type": "code",
   "execution_count": 8,
   "metadata": {},
   "outputs": [],
   "source": [
    "first_number = 12\n",
    "second_number = 30"
   ]
  },
  {
   "cell_type": "markdown",
   "metadata": {},
   "source": [
    "Addition in $(\\mathbb{R}, +, \\times)$ have some properties : \n",
    "* the $0$ is the neutral element for the law $+$ named `addition`, means $a \\in (\\mathbb{R}, +, \\times), a + 0 = a$. \n",
    "* the $1$ is the neutral element for the law $\\times$ named `multiplication` means $a \\in (\\mathbb{R}, +, \\times), a \\times 1 = a$.\n",
    "* the $0$ is the anulatry elelemnt for the group $(\\mathbb{R}, +)$,  . "
   ]
  },
  {
   "cell_type": "code",
   "execution_count": null,
   "metadata": {},
   "outputs": [],
   "source": []
  }
 ],
 "metadata": {
  "kernelspec": {
   "display_name": "testenvironment",
   "language": "python",
   "name": "python3"
  },
  "language_info": {
   "codemirror_mode": {
    "name": "ipython",
    "version": 3
   },
   "file_extension": ".py",
   "mimetype": "text/x-python",
   "name": "python",
   "nbconvert_exporter": "python",
   "pygments_lexer": "ipython3",
   "version": "3.6.13"
  },
  "orig_nbformat": 4
 },
 "nbformat": 4,
 "nbformat_minor": 2
}
