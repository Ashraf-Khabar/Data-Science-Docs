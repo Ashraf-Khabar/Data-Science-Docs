{
 "cells": [
  {
   "cell_type": "markdown",
   "metadata": {},
   "source": [
    "## In this Files We Will do some maths using Python - Achraf khabar"
   ]
  },
  {
   "cell_type": "markdown",
   "metadata": {},
   "source": [
    "#### Numbers :\n",
    "**We have 6 sets of numbers in maths : $\\mathbb{N}, \\mathbb{Z}, \\mathbb{D}, \\mathbb{Q}, \\mathbb{R}$ and $\\mathbb{C}$ :**\n",
    "* Set of Natural Numbers ($\\mathbb{N}$): The set of positive integers: $1, 2, 3, \\ldots$\n",
    "* Set of Integers ($\\mathbb{Z}$): The set of all integers, including both positive and negative numbers, as well as zero: $\\ldots, -3, -2, -1, 0, 1, 2, 3, \\ldots$\n",
    "* Set of Decimal Relative Numbers ($\\mathbb{D}$): This set includes not only integer numbers, but also positive and negative decimal numbers. Examples include numbers like $-5$, $-4$, $-4.2$, $-1.5$, $0$, $1.5$, $2.4$, $6.75$, $8$, etc.\n",
    "* Set of Rational Numbers ($\\mathbb{Q}$): This set encompasses not only decimal relative numbers, but also numbers that can be expressed as the quotient of two relative integers, with a non-zero denominator. Examples include numbers like $-5/4$, $-1/2$, $0$, $1$, $2$, $4/5$, $7/2$, etc.\n",
    "* Set of Real Numbers ($\\mathbb{R}$): Real numbers are more general than rational numbers. They include not only rational numbers, but also numbers whose decimal expansion is infinite and non-repeating. Examples include numbers like $\\pi$, $\\sqrt{2}$, e, $-1.524$, $2.41$, etc.\n",
    "* Set of Complex Numbers ($\\mathbb{C}$): The set of numbers that can be expressed in the form $a + bi$, where $a$ and $b$ are real numbers, and $i$ is the imaginary unit. This set includes all real numbers and numbers that involve an imaginary part, such as $3 + 4i, -2 - 7i, 5i, \\ldots$"
   ]
  },
  {
   "cell_type": "code",
   "execution_count": 2,
   "metadata": {},
   "outputs": [],
   "source": [
    "Intger = 1 # Intger number\n",
    "myFloat = 2.0 # Float number or reel number"
   ]
  },
  {
   "cell_type": "code",
   "execution_count": 3,
   "metadata": {},
   "outputs": [
    {
     "data": {
      "text/plain": [
       "1.4444444444444444"
      ]
     },
     "execution_count": 3,
     "metadata": {},
     "output_type": "execute_result"
    }
   ],
   "source": [
    "fraction = 52/36 # having numbers after the cama\n",
    "fraction"
   ]
  },
  {
   "cell_type": "code",
   "execution_count": 4,
   "metadata": {},
   "outputs": [
    {
     "data": {
      "text/plain": [
       "1"
      ]
     },
     "execution_count": 4,
     "metadata": {},
     "output_type": "execute_result"
    }
   ],
   "source": [
    "fraction = 52//36 # doesn't have any number after the cama \n",
    "fraction"
   ]
  },
  {
   "cell_type": "code",
   "execution_count": 5,
   "metadata": {},
   "outputs": [
    {
     "data": {
      "text/plain": [
       "'1.444'"
      ]
     },
     "execution_count": 5,
     "metadata": {},
     "output_type": "execute_result"
    }
   ],
   "source": [
    "fraction = 52/36\n",
    "\"{:.3f}\".format(fraction) # Having a specific number after cama"
   ]
  },
  {
   "cell_type": "markdown",
   "metadata": {},
   "source": [
    "**Operations**"
   ]
  },
  {
   "cell_type": "code",
   "execution_count": 6,
   "metadata": {},
   "outputs": [],
   "source": [
    "first_number = 12\n",
    "second_number = 30"
   ]
  },
  {
   "cell_type": "markdown",
   "metadata": {},
   "source": [
    "**Addition and multiplication in the set of real numbers $(\\mathbb{R}, +, \\times)$ exhibit certain properties :**\n",
    "* The number $0$ acts as the additive identity, meaning for any $a \\in \\mathbb{R}$, $a + 0 = a$.\n",
    "* The number $1$ serves as the multiplicative identity, meaning for any $a \\in \\mathbb{R}$, $a \\times 1 = a$.\n",
    "* The number $0$ functions as the annihilating element in the ring $(\\mathbb{R}, +, \\times)$, which implies that for any $a \\in \\mathbb{R}$, $a \\times 0 = 0$.\n",
    "* Additional properties include:\n",
    "    * For any $(a,b) \\in \\mathbb{R}^2$, the commutative property holds for addition: $a + b = b + a$.\n",
    "    * For any $(a,b) \\in \\mathbb{R}^2$, the commutative property holds for multiplication: $a \\times b = b \\times a$.\n",
    "    * For any $a \\in \\mathbb{R}$, the equation $a \\times \\frac{1}{a} = 1$ holds, where $\\frac{1}{a}$ is the multiplicative inverse of $a$.\n",
    "    * For any $a \\in \\mathbb{R}$, the equation $a + (-a) = 0$ holds, where $-a$ is the additive inverse of $a$."
   ]
  },
  {
   "cell_type": "code",
   "execution_count": 12,
   "metadata": {},
   "outputs": [
    {
     "data": {
      "text/plain": [
       "12"
      ]
     },
     "execution_count": 12,
     "metadata": {},
     "output_type": "execute_result"
    }
   ],
   "source": [
    "first_number + 0"
   ]
  },
  {
   "cell_type": "code",
   "execution_count": 14,
   "metadata": {},
   "outputs": [
    {
     "data": {
      "text/plain": [
       "30"
      ]
     },
     "execution_count": 14,
     "metadata": {},
     "output_type": "execute_result"
    }
   ],
   "source": [
    "second_number += 0 # same thing as second_number = second_number + 0\n",
    "second_number"
   ]
  },
  {
   "cell_type": "code",
   "execution_count": 11,
   "metadata": {},
   "outputs": [
    {
     "data": {
      "text/plain": [
       "0"
      ]
     },
     "execution_count": 11,
     "metadata": {},
     "output_type": "execute_result"
    }
   ],
   "source": [
    "second_number * 0 "
   ]
  },
  {
   "cell_type": "code",
   "execution_count": 15,
   "metadata": {},
   "outputs": [
    {
     "data": {
      "text/plain": [
       "1.0"
      ]
     },
     "execution_count": 15,
     "metadata": {},
     "output_type": "execute_result"
    }
   ],
   "source": [
    "second_number * 1/second_number"
   ]
  },
  {
   "cell_type": "code",
   "execution_count": 16,
   "metadata": {},
   "outputs": [
    {
     "data": {
      "text/plain": [
       "0"
      ]
     },
     "execution_count": 16,
     "metadata": {},
     "output_type": "execute_result"
    }
   ],
   "source": [
    "second_number + (-second_number)"
   ]
  },
  {
   "cell_type": "code",
   "execution_count": 17,
   "metadata": {},
   "outputs": [
    {
     "data": {
      "text/plain": [
       "42"
      ]
     },
     "execution_count": 17,
     "metadata": {},
     "output_type": "execute_result"
    }
   ],
   "source": [
    "second_number + first_number"
   ]
  },
  {
   "cell_type": "markdown",
   "metadata": {},
   "source": [
    "Some specific numbers : $\\sqrt{2}$, $\\pi$, $e$, ..."
   ]
  },
  {
   "cell_type": "code",
   "execution_count": 18,
   "metadata": {},
   "outputs": [],
   "source": [
    "import math"
   ]
  },
  {
   "cell_type": "code",
   "execution_count": 19,
   "metadata": {},
   "outputs": [
    {
     "data": {
      "text/plain": [
       "1.4142135623730951"
      ]
     },
     "execution_count": 19,
     "metadata": {},
     "output_type": "execute_result"
    }
   ],
   "source": [
    "math.sqrt(2)"
   ]
  },
  {
   "cell_type": "code",
   "execution_count": 20,
   "metadata": {},
   "outputs": [
    {
     "data": {
      "text/plain": [
       "3.141592653589793"
      ]
     },
     "execution_count": 20,
     "metadata": {},
     "output_type": "execute_result"
    }
   ],
   "source": [
    "math.pi"
   ]
  },
  {
   "cell_type": "code",
   "execution_count": 21,
   "metadata": {},
   "outputs": [
    {
     "data": {
      "text/plain": [
       "2.718281828459045"
      ]
     },
     "execution_count": 21,
     "metadata": {},
     "output_type": "execute_result"
    }
   ],
   "source": [
    "math.e"
   ]
  },
  {
   "cell_type": "code",
   "execution_count": 23,
   "metadata": {},
   "outputs": [],
   "source": [
    "# importing the numpy package too \n",
    "import numpy as np"
   ]
  },
  {
   "cell_type": "code",
   "execution_count": 24,
   "metadata": {},
   "outputs": [
    {
     "data": {
      "text/plain": [
       "1.4142135623730951"
      ]
     },
     "execution_count": 24,
     "metadata": {},
     "output_type": "execute_result"
    }
   ],
   "source": [
    "np.sqrt(2)"
   ]
  },
  {
   "cell_type": "code",
   "execution_count": 25,
   "metadata": {},
   "outputs": [
    {
     "data": {
      "text/plain": [
       "3.141592653589793"
      ]
     },
     "execution_count": 25,
     "metadata": {},
     "output_type": "execute_result"
    }
   ],
   "source": [
    "np.pi"
   ]
  },
  {
   "cell_type": "code",
   "execution_count": 26,
   "metadata": {},
   "outputs": [
    {
     "data": {
      "text/plain": [
       "2.718281828459045"
      ]
     },
     "execution_count": 26,
     "metadata": {},
     "output_type": "execute_result"
    }
   ],
   "source": [
    "np.e"
   ]
  },
  {
   "cell_type": "markdown",
   "metadata": {},
   "source": [
    "## Basics of aritmitics : "
   ]
  },
  {
   "cell_type": "markdown",
   "metadata": {},
   "source": [
    "In this section we will conver only $\\mathbb{Z}$ set . let's look at this set : \n",
    "* $\\mathbb{Z}$ are the integer numbers, means $(..., -5, -4, -3, -2, -1, 0, 1, 2, 3, 4, ...)$ .\n",
    "* If we have the magma $(\\mathbb{Z}, +)$ and all the rules of magma . "
   ]
  },
  {
   "cell_type": "markdown",
   "metadata": {},
   "source": [
    "let $(a, b) \\in \\mathbb{Z}^2$ : \n",
    "* $a$ devides $b \\Leftrightarrow  \\exists \\: \\: \\mathrm{k} \\in \\mathbb{Z} , \\: b = k \\cdot a$ .\n",
    "\n",
    "We can say also that : \n",
    "* $a$ devisor of $b$\n",
    "* $a$ divisible by $b$\n",
    "* $a$ is a multiple of $b$"
   ]
  },
  {
   "cell_type": "code",
   "execution_count": 11,
   "metadata": {},
   "outputs": [
    {
     "data": {
      "text/plain": [
       "1.9166666666666667"
      ]
     },
     "execution_count": 11,
     "metadata": {},
     "output_type": "execute_result"
    }
   ],
   "source": [
    "# For example :\n",
    "# We have a doesn't devide b\n",
    "a = 12\n",
    "b = 23\n",
    "b / a # Because we have numbers after cama"
   ]
  },
  {
   "cell_type": "code",
   "execution_count": 15,
   "metadata": {},
   "outputs": [
    {
     "data": {
      "text/plain": [
       "2.0"
      ]
     },
     "execution_count": 15,
     "metadata": {},
     "output_type": "execute_result"
    }
   ],
   "source": [
    "2# we have d devides c\n",
    "c = 4\n",
    "d = 2\n",
    "c / d  # In this case we have k = 2"
   ]
  },
  {
   "cell_type": "markdown",
   "metadata": {},
   "source": [
    "If we have $a$ doesn't devide $b$, then we can say that $b = k \\cdot b + r \\: \\:, \\: \\: \\:(k, r) \\in \\mathbb{Z}^2$ ."
   ]
  },
  {
   "cell_type": "code",
   "execution_count": 17,
   "metadata": {},
   "outputs": [
    {
     "name": "stdout",
     "output_type": "stream",
     "text": [
      "12 devides 23 <=> 23 = 12 x 1 + 11\n"
     ]
    }
   ],
   "source": [
    "# How to get the result k and the rest r : \n",
    "print(f\"{a} devides {b} <=> {b} = {a} x {b//a} + {b%a}\")"
   ]
  }
 ],
 "metadata": {
  "kernelspec": {
   "display_name": "testenvironment",
   "language": "python",
   "name": "python3"
  },
  "language_info": {
   "codemirror_mode": {
    "name": "ipython",
    "version": 3
   },
   "file_extension": ".py",
   "mimetype": "text/x-python",
   "name": "python",
   "nbconvert_exporter": "python",
   "pygments_lexer": "ipython3",
   "version": "3.6.13"
  },
  "orig_nbformat": 4
 },
 "nbformat": 4,
 "nbformat_minor": 2
}
