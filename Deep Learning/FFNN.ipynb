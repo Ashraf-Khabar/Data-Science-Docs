{
 "cells": [
  {
   "cell_type": "markdown",
   "metadata": {},
   "source": [
    "# Implementation of Feed Forward Neural Network In Python"
   ]
  },
  {
   "cell_type": "markdown",
   "metadata": {},
   "source": [
    "* Feed Forward Neural Network or called Fully connected neural network is a mathematical deep learning model $\\:$. \n",
    "* We have hiden Layers $h_i^{(1)}$ with $i \\in [1, \\cdots, i]$, weith $w_{1...i}^{(1)}$, biase $b_{1...i}^{(1)}$ $\\:$.\n",
    "* We need to calculate the $z_i^{(1)} = w_{1...m}^{(1)} \\times X + b_{1...k}^{(1)}$ and $X = x_j$ the input $\\:$.\n",
    "* Then we need to calculate the activation function $a_i^{(1)} = \\sigma(z_i^{(1)})$ $\\:$ .\n",
    "* We need to define the Nx the number of input vectors .\n",
    "    * For our example : Nx = 3, HidenLayer = 4 .\n",
    "    * $w_1$ is the matrix of the first hidden layer, it has a shape of `(HidenLayer, Nx) = (4, 3)` .\n",
    "    * $b_1$ is the matrix of the first hidden layer, it has a shape of `(noOfHiddenNeurons,1) = (4, 1)` .\n",
    "    * $z_1$ is the result of the equation $z_1 = W_1 \\cdot X + b$ , it has a shape of `(noOfHiddenNeurons,1) = (4, 1)` .\n",
    "    * $a_1$ is the result of the equation $a_1 = \\sigma(z_1)$ , it has a shape of `(noOfHiddenNeurons,1) = (4, 1)`.\n",
    "    * $w_2$ is the matrix of the second hidden layer, it has a shape of `(1,noOfHiddenNeurons) = (1, 4)`.\n",
    "    * $b_2$ is the matrix of the second hidden layer, it has a shape of `(1,1)` .\n",
    "    * $z_2$ is the result of the equation $z_2 = W_2 \\cdot a_1 + b$ , it has a shape of `(1,1)` .\n",
    "    * $a_2$ is the result of the equation $a_2 = \\sigma(z_2)$ , it has a shape of `(1,1)` .\n"
   ]
  },
  {
   "cell_type": "code",
   "execution_count": null,
   "metadata": {},
   "outputs": [],
   "source": []
  }
 ],
 "metadata": {
  "kernelspec": {
   "display_name": "testenvironment",
   "language": "python",
   "name": "python3"
  },
  "language_info": {
   "codemirror_mode": {
    "name": "ipython",
    "version": 3
   },
   "file_extension": ".py",
   "mimetype": "text/x-python",
   "name": "python",
   "nbconvert_exporter": "python",
   "pygments_lexer": "ipython3",
   "version": "3.6.13"
  },
  "orig_nbformat": 4
 },
 "nbformat": 4,
 "nbformat_minor": 2
}
