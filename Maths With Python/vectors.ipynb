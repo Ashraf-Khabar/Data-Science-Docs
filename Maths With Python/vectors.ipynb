{
 "cells": [
  {
   "cell_type": "markdown",
   "metadata": {},
   "source": [
    "## Vectors in linear algebra : "
   ]
  },
  {
   "cell_type": "markdown",
   "metadata": {},
   "source": [
    "vectors is a set of elements with the same nature, let $\\mathbb{V}_n$ a set of vectors with dimenssion $n$ , for example $v \\in \\mathbb{V_{3}}$ so $dim({v}) = 3$ .  \n",
    "* $v = (1, 2, 3)$ it's a vecotor of 3 elements, for example if we consider the vector is a plan, we can say that $v = (x, y, z) = (axe_x, axe_y, axe_z)$ ."
   ]
  },
  {
   "cell_type": "code",
   "execution_count": 1,
   "metadata": {},
   "outputs": [],
   "source": [
    "# Create a vector in python : \n",
    "import numpy as np"
   ]
  },
  {
   "cell_type": "code",
   "execution_count": null,
   "metadata": {},
   "outputs": [],
   "source": [
    "np."
   ]
  }
 ],
 "metadata": {
  "kernelspec": {
   "display_name": "testenvironment",
   "language": "python",
   "name": "python3"
  },
  "language_info": {
   "codemirror_mode": {
    "name": "ipython",
    "version": 3
   },
   "file_extension": ".py",
   "mimetype": "text/x-python",
   "name": "python",
   "nbconvert_exporter": "python",
   "pygments_lexer": "ipython3",
   "version": "3.6.13"
  },
  "orig_nbformat": 4
 },
 "nbformat": 4,
 "nbformat_minor": 2
}
